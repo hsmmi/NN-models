{
 "cells": [
  {
   "cell_type": "code",
   "execution_count": 39,
   "metadata": {},
   "outputs": [],
   "source": [
    "import numpy as np\n",
    "import math\n",
    "from activation_func import activation_func as af\n",
    "from tabulate import tabulate"
   ]
  },
  {
   "cell_type": "code",
   "execution_count": 40,
   "metadata": {},
   "outputs": [],
   "source": [
    "class LSTM:\n",
    "    def __init__(self, x, W_f, W_i, W_c, W_o, W_R, b_f, b_i, b_c, b_o, c_0, h_0, decimal_points = 3):\n",
    "        self.x = x\n",
    "        self.W_f = W_f\n",
    "        self.W_i = W_i\n",
    "        self.W_c = W_c\n",
    "        self.W_o = W_o\n",
    "        self.W_R = W_R\n",
    "        self.b_f = b_f\n",
    "        self.b_i = b_i\n",
    "        self.b_c = b_c\n",
    "        self.b_o = b_o\n",
    "        self.c_0 = c_0\n",
    "        self.h_0 = h_0\n",
    "        self.dp = decimal_points\n",
    "\n",
    "    def f_t(self, x, h):\n",
    "        return af.binary_sigmoid(self.W_R @ h + self.W_f @ x + self.b_f)\n",
    "    \n",
    "    def i_t(self, x, h):\n",
    "        return af.binary_sigmoid(self.W_R @ h + self.W_i @ x + self.b_i)\n",
    "    \n",
    "    def C_hat_t(self, x, h):\n",
    "        return np.tanh(self.W_R @ h + self.W_c @ x + self.b_c)\n",
    "    \n",
    "    def C_t(self, f_t, c_t, i_t, c_hat_t):\n",
    "        return (np.multiply(f_t, c_t) + np.multiply(i_t, c_hat_t))\n",
    "    \n",
    "    def o_t(self, x, h):\n",
    "        return af.binary_sigmoid(self.W_R @ h + self.W_o @ x + self.b_o)\n",
    "    \n",
    "    def run(self, time_steps):\n",
    "        iterations = time_steps if time_steps != None else len(self.x)\n",
    "        table_1 = []\n",
    "        table_2 = []\n",
    "        ht = self.h_0\n",
    "        ct = self.c_0\n",
    "        for i in range(iterations):\n",
    "            x_t = self.x[0] if time_steps != None else self.x[i]\n",
    "            ft = self.f_t(x_t, ht)\n",
    "            it = self.i_t(x_t, ht)\n",
    "            c_hat_t = self.C_hat_t(x_t, ht)\n",
    "            ct = self.C_t(ft, ct, it, c_hat_t)\n",
    "            ot = self.o_t(x_t, ht)\n",
    "            ht = np.multiply(ot, np.tanh(ct))\n",
    "            table_1.append([i+1, x_t, np.round(ft, self.dp), np.round(it, self.dp), np.round(c_hat_t, self.dp)])\n",
    "            table_2.append([np.round(ct, self.dp), np.round(ot, self.dp), np.round(ht, self.dp)])\n",
    "\n",
    "        print(tabulate(table_1, headers=[\"t\", \"x_t\", \"f_t\", \"i_t\", \"C_hat_t\"]))\n",
    "        print(tabulate(table_2, headers=[\"C_t\", \"O_t\", \"h_t\"]))\n",
    "\n"
   ]
  },
  {
   "cell_type": "code",
   "execution_count": 41,
   "metadata": {},
   "outputs": [
    {
     "name": "stdout",
     "output_type": "stream",
     "text": [
      "  t  x_t            f_t                  i_t                  C_hat_t\n",
      "---  -------------  -------------------  -------------------  ----------------------\n",
      "  1  [1, -1, 0, 1]  [0.953 0.5   0.269]  [0.5   0.953 0.269]  [ 0.762 -0.762  0.762]\n",
      "  2  [1, -1, 0, 1]  [0.958 0.532 0.346]  [0.532 0.958 0.346]  [ 0.81  -0.702  0.877]\n",
      "  3  [1, -1, 0, 1]  [0.962 0.516 0.387]  [0.557 0.955 0.387]  [ 0.842 -0.732  0.912]\n",
      "C_t                     O_t                  h_t\n",
      "----------------------  -------------------  ----------------------\n",
      "[ 0.381 -0.725  0.205]  [0.5   0.5   0.269]  [ 0.182 -0.31   0.054]\n",
      "[ 0.796 -1.059  0.375]  [0.532 0.532 0.346]  [ 0.352 -0.418  0.124]\n",
      "[ 1.234 -1.247  0.499]  [0.557 0.516 0.387]  [ 0.47  -0.438  0.179]\n"
     ]
    }
   ],
   "source": [
    "x = [[1, -1, 0, 1]]\n",
    "W_f = np.array([[0, -1, 0, 1],\n",
    "                [0, 1, -1, 1],\n",
    "                [-1, 0, 1, 1]])\n",
    "\n",
    "W_i = np.array([[-1, -1, -1, 0],\n",
    "                [1, -1, 0, 1],\n",
    "                [0, -1, 1, -1]])\n",
    "\n",
    "W_c = np.array([[0, 1, -1, 1],\n",
    "                [-1, 1, 1, 0],\n",
    "                [1, -1, 0, -1]])\n",
    "\n",
    "W_o = np.array([[1, 0, 1, -1],\n",
    "                [-1, 1, 0, 1],\n",
    "                [0, -1, 1, -1]])\n",
    "\n",
    "W_R = np.array([[1, 0, -1],\n",
    "                [-1, -1, 0],\n",
    "                [0, -1, 1]])\n",
    "\n",
    "b_f = [1, 0, -1]\n",
    "b_i = [0, 0, -1]\n",
    "b_c = [1, 1, 0]\n",
    "b_o = [0, 1, -1]\n",
    "\n",
    "h_0 = np.zeros(3)\n",
    "c_0 = np.zeros(3)\n",
    "\n",
    "lstm = LSTM(x, W_f, W_i, W_c, W_o, W_R, b_f, b_i, b_c, b_o, c_0, h_0)\n",
    "lstm.run(time_steps=3)\n"
   ]
  },
  {
   "cell_type": "code",
   "execution_count": null,
   "metadata": {},
   "outputs": [],
   "source": []
  }
 ],
 "metadata": {
  "kernelspec": {
   "display_name": "base",
   "language": "python",
   "name": "python3"
  },
  "language_info": {
   "codemirror_mode": {
    "name": "ipython",
    "version": 3
   },
   "file_extension": ".py",
   "mimetype": "text/x-python",
   "name": "python",
   "nbconvert_exporter": "python",
   "pygments_lexer": "ipython3",
   "version": "3.9.15"
  },
  "orig_nbformat": 4,
  "vscode": {
   "interpreter": {
    "hash": "ffc2c986650f75bb84df5ef0f5794d173c138677d61245fd2c4ff2debf2f2371"
   }
  }
 },
 "nbformat": 4,
 "nbformat_minor": 2
}
