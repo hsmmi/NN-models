{
 "cells": [
  {
   "cell_type": "code",
   "execution_count": 1,
   "metadata": {},
   "outputs": [],
   "source": [
    "import numpy as np\n",
    "from activation_func import activation_func"
   ]
  },
  {
   "attachments": {},
   "cell_type": "markdown",
   "metadata": {},
   "source": [
    "## MLP"
   ]
  },
  {
   "cell_type": "code",
   "execution_count": 13,
   "metadata": {},
   "outputs": [],
   "source": [
    "from MLP import MLP"
   ]
  },
  {
   "attachments": {},
   "cell_type": "markdown",
   "metadata": {},
   "source": [
    "### 2022 Example"
   ]
  },
  {
   "cell_type": "code",
   "execution_count": 7,
   "metadata": {},
   "outputs": [
    {
     "name": "stdout",
     "output_type": "stream",
     "text": [
      "epoch 1\n",
      "[[0.25 0.5  0.75]]\n",
      "[[0.75 0.5  0.25]]\n",
      "x                   z_in           z                  y_in      y\n",
      "------------------  -------------  ---------------  ------  -----\n",
      "[[0.25 0.5  0.75]]  [[0.75 0.75]]  [[0.358 0.358]]   0.358  0.358\n",
      "[[0.75 0.5  0.25]]  [[0.75 0.75]]  [[0.358 0.358]]   0.358  0.358\n",
      "δ_H                   δ_O  h(q)               o(q)\n",
      "-----------------  ------  -----------------  ---------\n",
      "[[0.024 0.024]]     0.108  [[0.006 0.006]     [[0.039]\n",
      "                            [0.012 0.012]      [0.039]]\n",
      "                            [0.018 0.018]]\n",
      "[[-0.085 -0.085]]  -0.392  [[-0.064 -0.064]   [[-0.14]\n",
      "                            [-0.043 -0.043]    [-0.14]]\n",
      "                            [-0.021 -0.021]]\n",
      "o = [[-0.102]\n",
      " [-0.102]]\n",
      "h = [[-0.058 -0.058]\n",
      " [-0.031 -0.031]\n",
      " [-0.004 -0.004]]\n",
      "Δv = [[0.029 0.029]\n",
      " [0.015 0.015]\n",
      " [0.002 0.002]]\n",
      "Δw = [[0.051]\n",
      " [0.051]]\n",
      "v = [[0.529 0.529]\n",
      " [0.515 0.515]\n",
      " [0.502 0.502]]\n",
      "w = [[0.551]\n",
      " [0.551]]\n"
     ]
    }
   ],
   "source": [
    "X = np.array([[0.25, 0.5, 0.75], [0.75, 0.5, 0.25]])\n",
    "y = np.array([[0.25], [0.75]])\n",
    "input_size = X.shape[1]\n",
    "hidden_size = 2\n",
    "output_size = y.shape[1]\n",
    "V = np.full((input_size, hidden_size), 0.5)\n",
    "W = np.full((hidden_size, output_size), 0.5)\n",
    "\n",
    "hidden_act = activation_func.bipolar_sigmoid\n",
    "de_hidden_act = activation_func.d_bipolar_sigmoid\n",
    "output_act = activation_func.identity\n",
    "de_output_act = activation_func.d_identity\n",
    "mlp = MLP(\n",
    "    input_size,\n",
    "    hidden_size,\n",
    "    output_size,\n",
    "    activation_func_hidden=hidden_act,\n",
    "    activation_func_output=output_act,\n",
    "    derivative_act_hidden=de_hidden_act,\n",
    "    derivative_act_output=de_output_act,\n",
    "    batch_mode=True,\n",
    "    bias=False,\n",
    "    print_steps=True,\n",
    "    decimal_point=3,\n",
    "    init_weights=(V, W)\n",
    ")\n",
    "v,w = mlp.train(X, y, epochs=1, learning_rate=1.0)"
   ]
  },
  {
   "attachments": {},
   "cell_type": "markdown",
   "metadata": {},
   "source": [
    "### 2021 Example"
   ]
  },
  {
   "cell_type": "code",
   "execution_count": 12,
   "metadata": {},
   "outputs": [
    {
     "name": "stdout",
     "output_type": "stream",
     "text": [
      "epoch 1\n",
      "[[0.25 0.5  0.25]]\n",
      "[[0.5  0.25 0.5 ]]\n",
      "x                   z_in             z                  y_in      y\n",
      "------------------  ---------------  ---------------  ------  -----\n",
      "[[0.25 0.5  0.25]]  [[0.5 0.5]]      [[0.245 0.245]]   0.245  0.245\n",
      "[[0.5  0.25 0.5 ]]  [[0.647 0.647]]  [[0.313 0.313]]   0.352  0.352\n",
      "δ_H                   δ_O  Δv               Δw         v                w\n",
      "-----------------  ------  ---------------  ---------  ---------------  ---------\n",
      "[[-0.06 -0.06]]    -0.255  [[0.015 0.015]   [[0.062]   [[0.515 0.515]   [[0.562]\n",
      "                            [0.03  0.03 ]    [0.062]]   [0.53  0.53 ]    [0.562]]\n",
      "                            [0.015 0.015]]              [0.515 0.515]]\n",
      "[[-0.101 -0.101]]  -0.398  [[0.05  0.05 ]   [[0.125]   [[0.565 0.565]   [[0.687]\n",
      "                            [0.025 0.025]    [0.125]]   [0.555 0.555]    [0.687]]\n",
      "                            [0.05  0.05 ]]              [0.565 0.565]]\n"
     ]
    }
   ],
   "source": [
    "X = np.array([[0.25, 0.5, 0.25], [0.5, 0.25, 0.5]])\n",
    "y = np.array([[0.5], [0.75]])\n",
    "input_size = X.shape[1]\n",
    "hidden_size = 2\n",
    "output_size = y.shape[1]\n",
    "V = np.full((input_size, hidden_size), 0.5)\n",
    "W = np.full((hidden_size, output_size), 0.5)\n",
    "\n",
    "hidden_act = activation_func.bipolar_sigmoid\n",
    "de_hidden_act = activation_func.d_bipolar_sigmoid\n",
    "output_act = activation_func.identity\n",
    "de_output_act = activation_func.d_identity\n",
    "mlp = MLP(\n",
    "    input_size,\n",
    "    hidden_size,\n",
    "    output_size,\n",
    "    activation_func_hidden=hidden_act,\n",
    "    activation_func_output=output_act,\n",
    "    derivative_act_hidden=de_hidden_act,\n",
    "    derivative_act_output=de_output_act,\n",
    "    batch_mode=False,\n",
    "    bias=False,\n",
    "    print_steps=True,\n",
    "    decimal_point=3,\n",
    "    init_weights=(V, W)\n",
    ")\n",
    "v,w = mlp.train(X, y, epochs=1, learning_rate=1.0)"
   ]
  },
  {
   "cell_type": "code",
   "execution_count": 5,
   "metadata": {},
   "outputs": [
    {
     "name": "stdout",
     "output_type": "stream",
     "text": [
      "epoch 1\n",
      "[[1. 1. 1. 1.]]\n"
     ]
    },
    {
     "ename": "ValueError",
     "evalue": "shapes (1,4) and (3,2) not aligned: 4 (dim 1) != 3 (dim 0)",
     "output_type": "error",
     "traceback": [
      "\u001b[1;31m---------------------------------------------------------------------------\u001b[0m",
      "\u001b[1;31mValueError\u001b[0m                                Traceback (most recent call last)",
      "Cell \u001b[1;32mIn[5], line 37\u001b[0m\n\u001b[0;32m     23\u001b[0m de_output_act \u001b[39m=\u001b[39m activation_func\u001b[39m.\u001b[39md_bipolar_sigmoid\n\u001b[0;32m     24\u001b[0m mlp \u001b[39m=\u001b[39m MLP(\n\u001b[0;32m     25\u001b[0m     input_size,\n\u001b[0;32m     26\u001b[0m     hidden_size,\n\u001b[1;32m   (...)\u001b[0m\n\u001b[0;32m     35\u001b[0m     init_weights\u001b[39m=\u001b[39m(W, V)\n\u001b[0;32m     36\u001b[0m )\n\u001b[1;32m---> 37\u001b[0m v, w \u001b[39m=\u001b[39m mlp\u001b[39m.\u001b[39;49mtrain(X, y, epochs\u001b[39m=\u001b[39;49m\u001b[39m1\u001b[39;49m, learning_rate\u001b[39m=\u001b[39;49m\u001b[39m0.2\u001b[39;49m)\n",
      "File \u001b[1;32mg:\\Arshad Projects\\Term 2\\NN\\Exam\\NN-models\\MLP.py:112\u001b[0m, in \u001b[0;36mMLP.train\u001b[1;34m(self, X, y, epochs, learning_rate)\u001b[0m\n\u001b[0;32m    110\u001b[0m \u001b[39mfor\u001b[39;00m i \u001b[39min\u001b[39;00m \u001b[39mrange\u001b[39m(X\u001b[39m.\u001b[39mshape[\u001b[39m0\u001b[39m]):\n\u001b[0;32m    111\u001b[0m     inp \u001b[39m=\u001b[39m X[i]\u001b[39m.\u001b[39mreshape([\u001b[39m1\u001b[39m, \u001b[39m-\u001b[39m\u001b[39m1\u001b[39m])\n\u001b[1;32m--> 112\u001b[0m     output \u001b[39m=\u001b[39m \u001b[39mself\u001b[39;49m\u001b[39m.\u001b[39;49mforward(inp)\n\u001b[0;32m    113\u001b[0m     \u001b[39mself\u001b[39m\u001b[39m.\u001b[39mbackward(inp, y[i], output)\n\u001b[0;32m    114\u001b[0m     \u001b[39mself\u001b[39m\u001b[39m.\u001b[39mdelta_v \u001b[39m=\u001b[39m (\n\u001b[0;32m    115\u001b[0m         inp\u001b[39m.\u001b[39mT\u001b[39m.\u001b[39mdot(\u001b[39mself\u001b[39m\u001b[39m.\u001b[39mhidden_delta) \u001b[39m*\u001b[39m learning_rate \u001b[39m*\u001b[39m \u001b[39m-\u001b[39m\u001b[39m1\u001b[39m\n\u001b[0;32m    116\u001b[0m     )\n",
      "File \u001b[1;32mg:\\Arshad Projects\\Term 2\\NN\\Exam\\NN-models\\MLP.py:54\u001b[0m, in \u001b[0;36mMLP.forward\u001b[1;34m(self, X)\u001b[0m\n\u001b[0;32m     52\u001b[0m     X \u001b[39m=\u001b[39m np\u001b[39m.\u001b[39mc_[np\u001b[39m.\u001b[39mones(X\u001b[39m.\u001b[39mshape[\u001b[39m0\u001b[39m]), X]\n\u001b[0;32m     53\u001b[0m \u001b[39mprint\u001b[39m(X)\n\u001b[1;32m---> 54\u001b[0m \u001b[39mself\u001b[39m\u001b[39m.\u001b[39mz_in \u001b[39m=\u001b[39m np\u001b[39m.\u001b[39;49mdot(X, \u001b[39mself\u001b[39;49m\u001b[39m.\u001b[39;49mW1)\n\u001b[0;32m     55\u001b[0m \u001b[39mself\u001b[39m\u001b[39m.\u001b[39mz \u001b[39m=\u001b[39m \u001b[39mself\u001b[39m\u001b[39m.\u001b[39mact_func_h(\u001b[39mself\u001b[39m\u001b[39m.\u001b[39mz_in)\n\u001b[0;32m     56\u001b[0m \u001b[39mif\u001b[39;00m \u001b[39mself\u001b[39m\u001b[39m.\u001b[39mbias:\n",
      "File \u001b[1;32m<__array_function__ internals>:200\u001b[0m, in \u001b[0;36mdot\u001b[1;34m(*args, **kwargs)\u001b[0m\n",
      "\u001b[1;31mValueError\u001b[0m: shapes (1,4) and (3,2) not aligned: 4 (dim 1) != 3 (dim 0)"
     ]
    }
   ],
   "source": [
    "input_size = 3\n",
    "hidden_size = 2\n",
    "output_size = 2\n",
    "X = np.array([[1, 1, 1], [1, -1, -1]])\n",
    "y = np.array([[1, 1], [-1, -1]])\n",
    "\n",
    "V = np.array([\n",
    "    [0.22, 0.57],\n",
    "    [0.7, 0.21],\n",
    "    [0.18, 0.11],\n",
    "    [0.38, 0.44]\n",
    "])\n",
    "\n",
    "W = np.array([\n",
    "    [0.09, 0.81],\n",
    "    [0.77, 0.86],\n",
    "    [0.17, 0.29]\n",
    "])\n",
    "\n",
    "hidden_act = activation_func.bipolar_sigmoid\n",
    "de_hidden_act = activation_func.d_bipolar_sigmoid\n",
    "output_act = activation_func.bipolar_sigmoid\n",
    "de_output_act = activation_func.d_bipolar_sigmoid\n",
    "mlp = MLP(\n",
    "    input_size,\n",
    "    hidden_size,\n",
    "    output_size,\n",
    "    activation_func_hidden=hidden_act,\n",
    "    activation_func_output=output_act,\n",
    "    derivative_act_hidden=de_hidden_act,\n",
    "    derivative_act_output=de_output_act,\n",
    "    batch_mode=False,\n",
    "    bias=True,\n",
    "    print_steps=True,\n",
    "    init_weights=(W, V)\n",
    ")\n",
    "v, w = mlp.train(X, y, epochs=1, learning_rate=0.2)"
   ]
  },
  {
   "cell_type": "code",
   "execution_count": null,
   "metadata": {},
   "outputs": [],
   "source": []
  }
 ],
 "metadata": {
  "kernelspec": {
   "display_name": "base",
   "language": "python",
   "name": "python3"
  },
  "language_info": {
   "codemirror_mode": {
    "name": "ipython",
    "version": 3
   },
   "file_extension": ".py",
   "mimetype": "text/x-python",
   "name": "python",
   "nbconvert_exporter": "python",
   "pygments_lexer": "ipython3",
   "version": "3.9.15"
  },
  "orig_nbformat": 4,
  "vscode": {
   "interpreter": {
    "hash": "ffc2c986650f75bb84df5ef0f5794d173c138677d61245fd2c4ff2debf2f2371"
   }
  }
 },
 "nbformat": 4,
 "nbformat_minor": 2
}
