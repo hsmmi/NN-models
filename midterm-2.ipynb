{
 "cells": [
  {
   "cell_type": "code",
   "execution_count": 1,
   "metadata": {},
   "outputs": [],
   "source": [
    "import numpy as np\n",
    "from activation_func import activation_func"
   ]
  },
  {
   "attachments": {},
   "cell_type": "markdown",
   "metadata": {},
   "source": [
    "### MLP"
   ]
  },
  {
   "cell_type": "code",
   "execution_count": 2,
   "metadata": {},
   "outputs": [
    {
     "name": "stdout",
     "output_type": "stream",
     "text": [
      "(3, 2)\n",
      "epoch 1\n",
      "x                   z_in           z                y_in     y\n",
      "------------------  -------------  -------------  ------  ----\n",
      "[[0.25 0.5  0.75]]  [[0.75 0.75]]  [[0.36 0.36]]    0.36  0.36\n",
      "[[0.75 0.5  0.25]]  [[0.75 0.75]]  [[0.36 0.36]]    0.36  0.36\n",
      "δ_H                δ_O  h(q)             o(q)\n",
      "---------------  -----  ---------------  ---------\n",
      "[[-0.01 -0.01]]  -0.04  [[-0.   -0.  ]   [[-0.01]\n",
      "                         [-0.   -0.  ]    [-0.01]]\n",
      "                         [-0.01 -0.01]]\n",
      "[[-0.06 -0.06]]  -0.28  [[-0.05 -0.05]   [[-0.1]\n",
      "                         [-0.03 -0.03]    [-0.1]]\n",
      "                         [-0.02 -0.02]]\n",
      "o = [[-0.11]\n",
      " [-0.11]]\n",
      "h = [[-0.05 -0.05]\n",
      " [-0.03 -0.03]\n",
      " [-0.02 -0.02]]\n",
      "Δv = [[0.02 0.02]\n",
      " [0.02 0.02]\n",
      " [0.01 0.01]]\n",
      "Δw = [[0.06]\n",
      " [0.06]]\n",
      "v = [[0.52 0.52]\n",
      " [0.52 0.52]\n",
      " [0.51 0.51]]\n",
      "w = [[0.56]\n",
      " [0.56]]\n",
      "(3, 2)\n",
      "epoch 1\n",
      "x                   z_in           z                  y_in      y\n",
      "------------------  -------------  ---------------  ------  -----\n",
      "[[0.25 0.5  0.75]]  [[0.75 0.75]]  [[0.358 0.358]]   0.358  0.358\n",
      "[[0.75 0.5  0.25]]  [[0.75 0.75]]  [[0.358 0.358]]   0.358  0.358\n",
      "δ_H                   δ_O  h(q)               o(q)\n",
      "-----------------  ------  -----------------  ----------\n",
      "[[-0.008 -0.008]]  -0.035  [[-0.002 -0.002]   [[-0.013]\n",
      "                            [-0.004 -0.004]    [-0.013]]\n",
      "                            [-0.006 -0.006]]\n",
      "[[-0.06 -0.06]]    -0.277  [[-0.045 -0.045]   [[-0.099]\n",
      "                            [-0.03  -0.03 ]    [-0.099]]\n",
      "                            [-0.015 -0.015]]\n",
      "o = [[-0.112]\n",
      " [-0.112]]\n",
      "h = [[-0.047 -0.047]\n",
      " [-0.034 -0.034]\n",
      " [-0.021 -0.021]]\n",
      "Δv = [[0.024 0.024]\n",
      " [0.017 0.017]\n",
      " [0.01  0.01 ]]\n",
      "Δw = [[0.056]\n",
      " [0.056]]\n",
      "v = [[0.524 0.524]\n",
      " [0.517 0.517]\n",
      " [0.51  0.51 ]]\n",
      "w = [[0.556]\n",
      " [0.556]]\n"
     ]
    }
   ],
   "source": [
    "from MLP import MLP\n",
    "\n",
    "X = np.array([[0.25, 0.5, 0.75], [0.75, 0.5, 0.25]])\n",
    "y = np.array([[0.25], [0.75]])\n",
    "input_size = X.shape[1]\n",
    "hidden_size = 2\n",
    "output_size = y.shape[1]\n",
    "V = np.full((input_size, hidden_size), 0.5)\n",
    "W = np.full((hidden_size, output_size), 0.5)\n",
    "\n",
    "hidden_act = activation_func.bipolar_sigmoid\n",
    "de_hidden_act = activation_func.d_bipolar_sigmoid\n",
    "output_act = activation_func.bipolar_sigmoid\n",
    "de_output_act = activation_func.d_bipolar_sigmoid\n",
    "mlp = MLP(\n",
    "    input_size,\n",
    "    hidden_size,\n",
    "    output_size,\n",
    "    activation_func_hidden=hidden_act,\n",
    "    activation_func_output=output_act,\n",
    "    derivative_act_hidden=de_hidden_act,\n",
    "    derivative_act_output=de_output_act,\n",
    "    batch_mode=True,\n",
    "    bias=False,\n",
    "    print_steps=True,\n",
    "    decimal_point=3,\n",
    "    init_weights=(V, W)\n",
    ")\n",
    "v,w = mlp.train(X, y, epochs=1, learning_rate=1.0)"
   ]
  },
  {
   "cell_type": "code",
   "execution_count": 3,
   "metadata": {},
   "outputs": [
    {
     "name": "stdout",
     "output_type": "stream",
     "text": [
      "(4, 2)\n",
      "epoch 1\n",
      "(3, 2)\n"
     ]
    },
    {
     "ename": "ValueError",
     "evalue": "operands could not be broadcast together with shapes (4,2) (3,2) (4,2) ",
     "output_type": "error",
     "traceback": [
      "\u001b[1;31m---------------------------------------------------------------------------\u001b[0m",
      "\u001b[1;31mValueError\u001b[0m                                Traceback (most recent call last)",
      "Cell \u001b[1;32mIn[3], line 39\u001b[0m\n\u001b[0;32m     25\u001b[0m de_output_act \u001b[39m=\u001b[39m activation_func\u001b[39m.\u001b[39md_bipolar_sigmoid\n\u001b[0;32m     26\u001b[0m mlp \u001b[39m=\u001b[39m MLP(\n\u001b[0;32m     27\u001b[0m     input_size,\n\u001b[0;32m     28\u001b[0m     hidden_size,\n\u001b[1;32m   (...)\u001b[0m\n\u001b[0;32m     37\u001b[0m     init_weights\u001b[39m=\u001b[39m(V, W)\n\u001b[0;32m     38\u001b[0m )\n\u001b[1;32m---> 39\u001b[0m v, w \u001b[39m=\u001b[39m mlp\u001b[39m.\u001b[39;49mtrain(X, y, epochs\u001b[39m=\u001b[39;49m\u001b[39m1\u001b[39;49m, learning_rate\u001b[39m=\u001b[39;49m\u001b[39m0.2\u001b[39;49m)\n",
      "File \u001b[1;32mg:\\Arshad Projects\\Term 2\\NN\\Exam\\NN-models\\MLP.py:121\u001b[0m, in \u001b[0;36mMLP.train\u001b[1;34m(self, X, y, epochs, learning_rate)\u001b[0m\n\u001b[0;32m    117\u001b[0m \u001b[39mself\u001b[39m\u001b[39m.\u001b[39mdelta_w \u001b[39m=\u001b[39m (\n\u001b[0;32m    118\u001b[0m     \u001b[39mself\u001b[39m\u001b[39m.\u001b[39mz\u001b[39m.\u001b[39mT\u001b[39m.\u001b[39mdot(\u001b[39mself\u001b[39m\u001b[39m.\u001b[39moutput_delta) \u001b[39m*\u001b[39m learning_rate \u001b[39m*\u001b[39m \u001b[39m-\u001b[39m\u001b[39m1\u001b[39m\n\u001b[0;32m    119\u001b[0m )\n\u001b[0;32m    120\u001b[0m \u001b[39mprint\u001b[39m(\u001b[39mself\u001b[39m\u001b[39m.\u001b[39mdelta_v\u001b[39m.\u001b[39mshape)\n\u001b[1;32m--> 121\u001b[0m \u001b[39mself\u001b[39m\u001b[39m.\u001b[39mW1 \u001b[39m+\u001b[39m\u001b[39m=\u001b[39m \u001b[39mself\u001b[39m\u001b[39m.\u001b[39mdelta_v\n\u001b[0;32m    122\u001b[0m \u001b[39mself\u001b[39m\u001b[39m.\u001b[39mW2 \u001b[39m+\u001b[39m\u001b[39m=\u001b[39m \u001b[39mself\u001b[39m\u001b[39m.\u001b[39mdelta_w\n\u001b[0;32m    123\u001b[0m table_1\u001b[39m.\u001b[39mappend([inp, np\u001b[39m.\u001b[39mround(\u001b[39mself\u001b[39m\u001b[39m.\u001b[39mz_in, \u001b[39mself\u001b[39m\u001b[39m.\u001b[39mdp), np\u001b[39m.\u001b[39mround(\u001b[39mself\u001b[39m\u001b[39m.\u001b[39mz, \u001b[39mself\u001b[39m\u001b[39m.\u001b[39mdp), np\u001b[39m.\u001b[39mround(\u001b[39mself\u001b[39m\u001b[39m.\u001b[39my_in, \u001b[39mself\u001b[39m\u001b[39m.\u001b[39mdp),\n\u001b[0;32m    124\u001b[0m                np\u001b[39m.\u001b[39mround(\u001b[39mself\u001b[39m\u001b[39m.\u001b[39my_in, \u001b[39mself\u001b[39m\u001b[39m.\u001b[39mdp)])\n",
      "\u001b[1;31mValueError\u001b[0m: operands could not be broadcast together with shapes (4,2) (3,2) (4,2) "
     ]
    }
   ],
   "source": [
    "from MLP import MLP\n",
    "\n",
    "input_size = 3\n",
    "hidden_size = 2\n",
    "output_size = 2\n",
    "X = np.array([[1, 1, 1], [1, -1, -1]])\n",
    "y = np.array([[1, 1], [-1, -1]])\n",
    "\n",
    "V = np.array([\n",
    "    [0.22, 0.57],\n",
    "    [0.7, 0.21],\n",
    "    [0.18, 0.11],\n",
    "    [0.38, 0.44]\n",
    "])\n",
    "\n",
    "W = np.array([\n",
    "    [0.09, 0.81],\n",
    "    [0.77, 0.86],\n",
    "    [0.17, 0.29]\n",
    "])\n",
    "\n",
    "hidden_act = activation_func.bipolar_sigmoid\n",
    "de_hidden_act = activation_func.d_bipolar_sigmoid\n",
    "output_act = activation_func.bipolar_sigmoid\n",
    "de_output_act = activation_func.d_bipolar_sigmoid\n",
    "mlp = MLP(\n",
    "    input_size,\n",
    "    hidden_size,\n",
    "    output_size,\n",
    "    activation_func_hidden=hidden_act,\n",
    "    activation_func_output=output_act,\n",
    "    derivative_act_hidden=de_hidden_act,\n",
    "    derivative_act_output=de_output_act,\n",
    "    batch_mode=False,\n",
    "    bias=True,\n",
    "    print_steps=True,\n",
    "    init_weights=(V, W)\n",
    ")\n",
    "v, w = mlp.train(X, y, epochs=1, learning_rate=0.2)"
   ]
  },
  {
   "cell_type": "code",
   "execution_count": null,
   "metadata": {},
   "outputs": [],
   "source": []
  }
 ],
 "metadata": {
  "kernelspec": {
   "display_name": "base",
   "language": "python",
   "name": "python3"
  },
  "language_info": {
   "codemirror_mode": {
    "name": "ipython",
    "version": 3
   },
   "file_extension": ".py",
   "mimetype": "text/x-python",
   "name": "python",
   "nbconvert_exporter": "python",
   "pygments_lexer": "ipython3",
   "version": "3.9.15"
  },
  "orig_nbformat": 4,
  "vscode": {
   "interpreter": {
    "hash": "ffc2c986650f75bb84df5ef0f5794d173c138677d61245fd2c4ff2debf2f2371"
   }
  }
 },
 "nbformat": 4,
 "nbformat_minor": 2
}
