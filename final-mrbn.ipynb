{
 "cells": [
  {
   "cell_type": "code",
   "execution_count": 1,
   "metadata": {},
   "outputs": [],
   "source": [
    "import numpy as np"
   ]
  },
  {
   "attachments": {},
   "cell_type": "markdown",
   "metadata": {},
   "source": [
    "### Q1"
   ]
  },
  {
   "cell_type": "code",
   "execution_count": 2,
   "metadata": {},
   "outputs": [
    {
     "name": "stdout",
     "output_type": "stream",
     "text": [
      "[[ 0.8 -0.8  0.8]]\n",
      "[[ 1.3 -0.3  1.3]]\n",
      "[[-1.16  1.16]]\n",
      "[[-0.66  1.66]]\n",
      "[[ 0.928 -0.928  0.928]]\n",
      "[[ 1.428 -0.428  1.428]]\n",
      "[[ 1.228  -0.6568  0.6568 -1.228 ]]\n",
      "[[ 1.728  -0.1568  1.1568 -0.728 ]]\n"
     ]
    }
   ],
   "source": [
    "x = np.array([[1, -2, 2, 1]]).astype(np.float64)\n",
    "# w1 = np.array([[(2/5), (-1/5), (2/5)],\n",
    "#                [(-1/5), (1/5), (-1/5)],\n",
    "#                [(1/5), (-1/5), (1/5)],\n",
    "#                [(-2/5), (1/5), (-2/5)]])\n",
    "w1 = (1/5) * np.array([[2, -1, 2],\n",
    "               [-1, 1, -1],\n",
    "               [1, -1, 1],\n",
    "               [-2, 1, -2]]).astype(np.float64)\n",
    "w2 = (2/5) * np.array([[-1, 1],\n",
    "                       [1, -1],\n",
    "                       [-1, 1]]).astype(np.float64)\n",
    "\n",
    "def lelu(x):\n",
    "    return np.max(x[0], 0.999 * x[0])\n",
    "\n",
    "b1 =  np.full((1, 3), 0.5).astype(np.float64)\n",
    "b2 =  np.full((1, 2), 0.5).astype(np.float64)\n",
    "b3 =  np.full((1, 3), 0.5).astype(np.float64)\n",
    "b4 =  np.full((1, 4), 0.5).astype(np.float64)\n",
    "inp_enc = x @ w1\n",
    "print(inp_enc)\n",
    "inp_enc = inp_enc + b1\n",
    "print(inp_enc)\n",
    "# inp_enc = np.apply_along_axis(lelu, 0, inp_enc)\n",
    "# print(inp_enc)\n",
    "\n",
    "enc_lat = inp_enc @ w2\n",
    "print(enc_lat)\n",
    "enc_lat = enc_lat + b2\n",
    "print(enc_lat)\n",
    "\n",
    "lat_dec = enc_lat @ w2.T\n",
    "print(lat_dec)\n",
    "lat_dec = lat_dec + b3\n",
    "print(lat_dec)\n",
    "\n",
    "dec_out = lat_dec @ w1.T\n",
    "print(dec_out)\n",
    "dec_out = dec_out + b4\n",
    "print(dec_out)"
   ]
  },
  {
   "cell_type": "code",
   "execution_count": 3,
   "metadata": {},
   "outputs": [
    {
     "name": "stdout",
     "output_type": "stream",
     "text": [
      "[[0. 0. 0.]]\n",
      "[[0.5 0.5 0.5]]\n",
      "[[ 0.3 -0.1  0.1 -0.3]]\n",
      "[[0.8 0.4 0.6 0.2]]\n"
     ]
    }
   ],
   "source": [
    "code_inp = np.array([[1, 1]])\n",
    "lat_dec = code_inp @ w2.T\n",
    "print(lat_dec)\n",
    "lat_dec = lat_dec + b3\n",
    "print(lat_dec)\n",
    "\n",
    "dec_out = lat_dec @ w1.T\n",
    "print(dec_out)\n",
    "dec_out = dec_out + b4\n",
    "print(dec_out)"
   ]
  },
  {
   "cell_type": "code",
   "execution_count": null,
   "metadata": {},
   "outputs": [],
   "source": []
  }
 ],
 "metadata": {
  "kernelspec": {
   "display_name": "base",
   "language": "python",
   "name": "python3"
  },
  "language_info": {
   "codemirror_mode": {
    "name": "ipython",
    "version": 3
   },
   "file_extension": ".py",
   "mimetype": "text/x-python",
   "name": "python",
   "nbconvert_exporter": "python",
   "pygments_lexer": "ipython3",
   "version": "3.9.12"
  },
  "orig_nbformat": 4
 },
 "nbformat": 4,
 "nbformat_minor": 2
}
